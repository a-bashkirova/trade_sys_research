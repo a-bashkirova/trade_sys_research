{
 "cells": [
  {
   "cell_type": "code",
   "execution_count": null,
   "metadata": {
    "colab": {
     "base_uri": "https://localhost:8080/",
     "height": 381
    },
    "id": "zT1pYV5rcq-h",
    "outputId": "a4c8d650-7d55-4ae8-8c9e-7bba47814f32"
   },
   "outputs": [
    {
     "name": "stdout",
     "output_type": "stream",
     "text": [
      "Looking in indexes: https://pypi.org/simple, https://us-python.pkg.dev/colab-wheels/public/simple/\n",
      "Collecting lightgbm==3.3.5\n",
      "  Downloading lightgbm-3.3.5-py3-none-manylinux1_x86_64.whl (2.0 MB)\n",
      "\u001B[2K     \u001B[90m━━━━━━━━━━━━━━━━━━━━━━━━━━━━━━━━━━━━━━━━\u001B[0m \u001B[32m2.0/2.0 MB\u001B[0m \u001B[31m24.9 MB/s\u001B[0m eta \u001B[36m0:00:00\u001B[0m\n",
      "\u001B[?25hRequirement already satisfied: scikit-learn!=0.22.0 in /usr/local/lib/python3.9/dist-packages (from lightgbm==3.3.5) (1.2.1)\n",
      "Requirement already satisfied: scipy in /usr/local/lib/python3.9/dist-packages (from lightgbm==3.3.5) (1.10.1)\n",
      "Requirement already satisfied: numpy in /usr/local/lib/python3.9/dist-packages (from lightgbm==3.3.5) (1.22.4)\n",
      "Requirement already satisfied: wheel in /usr/local/lib/python3.9/dist-packages (from lightgbm==3.3.5) (0.38.4)\n",
      "Requirement already satisfied: threadpoolctl>=2.0.0 in /usr/local/lib/python3.9/dist-packages (from scikit-learn!=0.22.0->lightgbm==3.3.5) (3.1.0)\n",
      "Requirement already satisfied: joblib>=1.1.1 in /usr/local/lib/python3.9/dist-packages (from scikit-learn!=0.22.0->lightgbm==3.3.5) (1.2.0)\n",
      "Installing collected packages: lightgbm\n",
      "  Attempting uninstall: lightgbm\n",
      "    Found existing installation: lightgbm 2.2.3\n",
      "    Uninstalling lightgbm-2.2.3:\n",
      "      Successfully uninstalled lightgbm-2.2.3\n",
      "Successfully installed lightgbm-3.3.5\n"
     ]
    },
    {
     "data": {
      "application/vnd.colab-display-data+json": {
       "pip_warning": {
        "packages": [
         "lightgbm"
        ]
       }
      }
     },
     "metadata": {},
     "output_type": "display_data"
    }
   ],
   "source": [
    "# !pip install lightgbm==3.3.5"
   ]
  },
  {
   "cell_type": "code",
   "execution_count": null,
   "metadata": {
    "colab": {
     "base_uri": "https://localhost:8080/"
    },
    "id": "tK3QUiwUF83C",
    "outputId": "72d311a1-8421-4bfa-c649-51f004427751"
   },
   "outputs": [
    {
     "output_type": "stream",
     "name": "stdout",
     "text": [
      "Looking in indexes: https://pypi.org/simple, https://us-python.pkg.dev/colab-wheels/public/simple/\n",
      "Collecting catboost\n",
      "  Downloading catboost-1.1.1-cp39-none-manylinux1_x86_64.whl (76.6 MB)\n",
      "\u001B[2K     \u001B[90m━━━━━━━━━━━━━━━━━━━━━━━━━━━━━━━━━━━━━━━━\u001B[0m \u001B[32m76.6/76.6 MB\u001B[0m \u001B[31m12.9 MB/s\u001B[0m eta \u001B[36m0:00:00\u001B[0m\n",
      "\u001B[?25hRequirement already satisfied: numpy>=1.16.0 in /usr/local/lib/python3.9/dist-packages (from catboost) (1.22.4)\n",
      "Requirement already satisfied: scipy in /usr/local/lib/python3.9/dist-packages (from catboost) (1.10.1)\n",
      "Requirement already satisfied: pandas>=0.24.0 in /usr/local/lib/python3.9/dist-packages (from catboost) (1.4.4)\n",
      "Requirement already satisfied: graphviz in /usr/local/lib/python3.9/dist-packages (from catboost) (0.20.1)\n",
      "Requirement already satisfied: six in /usr/local/lib/python3.9/dist-packages (from catboost) (1.16.0)\n",
      "Requirement already satisfied: matplotlib in /usr/local/lib/python3.9/dist-packages (from catboost) (3.7.1)\n",
      "Requirement already satisfied: plotly in /usr/local/lib/python3.9/dist-packages (from catboost) (5.13.1)\n",
      "Requirement already satisfied: pytz>=2020.1 in /usr/local/lib/python3.9/dist-packages (from pandas>=0.24.0->catboost) (2022.7.1)\n",
      "Requirement already satisfied: python-dateutil>=2.8.1 in /usr/local/lib/python3.9/dist-packages (from pandas>=0.24.0->catboost) (2.8.2)\n",
      "Requirement already satisfied: pillow>=6.2.0 in /usr/local/lib/python3.9/dist-packages (from matplotlib->catboost) (8.4.0)\n",
      "Requirement already satisfied: packaging>=20.0 in /usr/local/lib/python3.9/dist-packages (from matplotlib->catboost) (23.0)\n",
      "Requirement already satisfied: contourpy>=1.0.1 in /usr/local/lib/python3.9/dist-packages (from matplotlib->catboost) (1.0.7)\n",
      "Requirement already satisfied: pyparsing>=2.3.1 in /usr/local/lib/python3.9/dist-packages (from matplotlib->catboost) (3.0.9)\n",
      "Requirement already satisfied: cycler>=0.10 in /usr/local/lib/python3.9/dist-packages (from matplotlib->catboost) (0.11.0)\n",
      "Requirement already satisfied: importlib-resources>=3.2.0 in /usr/local/lib/python3.9/dist-packages (from matplotlib->catboost) (5.12.0)\n",
      "Requirement already satisfied: fonttools>=4.22.0 in /usr/local/lib/python3.9/dist-packages (from matplotlib->catboost) (4.39.2)\n",
      "Requirement already satisfied: kiwisolver>=1.0.1 in /usr/local/lib/python3.9/dist-packages (from matplotlib->catboost) (1.4.4)\n",
      "Requirement already satisfied: tenacity>=6.2.0 in /usr/local/lib/python3.9/dist-packages (from plotly->catboost) (8.2.2)\n",
      "Requirement already satisfied: zipp>=3.1.0 in /usr/local/lib/python3.9/dist-packages (from importlib-resources>=3.2.0->matplotlib->catboost) (3.15.0)\n",
      "Installing collected packages: catboost\n",
      "Successfully installed catboost-1.1.1\n"
     ]
    }
   ],
   "source": [
    "!pip install catboost"
   ]
  },
  {
   "cell_type": "code",
   "execution_count": null,
   "metadata": {
    "id": "Kc3s7JPwlQ_M"
   },
   "outputs": [],
   "source": [
    "import pandas as pd\n",
    "import seaborn as sns\n",
    "import matplotlib.pyplot as plt\n",
    "import numpy as np\n",
    "import json\n",
    "from datetime import datetime\n",
    "from xgboost import XGBRegressor, XGBClassifier\n",
    "from catboost import CatBoostClassifier\n",
    "from lightgbm import LGBMClassifier\n",
    "import xgboost\n",
    "from sklearn.linear_model import LogisticRegression\n",
    "from sklearn.metrics import mean_squared_error, confusion_matrix, f1_score, accuracy_score\n",
    "from tqdm import tqdm\n",
    "import joblib"
   ]
  },
  {
   "cell_type": "code",
   "execution_count": null,
   "metadata": {
    "id": "FhSDpbXKa29W"
   },
   "outputs": [],
   "source": [
    "import torch\n",
    "import torch.nn as nn\n",
    "from torch.optim import Adam, SGD"
   ]
  },
  {
   "cell_type": "code",
   "execution_count": null,
   "outputs": [],
   "source": [
    "from utils import prepare_data, prepare_dataloader\n",
    "from src import train_model, FCModel, CNNModel, LSTMModel"
   ],
   "metadata": {
    "collapsed": false
   }
  },
  {
   "cell_type": "markdown",
   "metadata": {
    "id": "opTu33uvRNzN"
   },
   "source": [
    "# Обработка данных"
   ]
  },
  {
   "cell_type": "code",
   "execution_count": null,
   "metadata": {
    "colab": {
     "base_uri": "https://localhost:8080/",
     "height": 235
    },
    "id": "NkOGdxOtlzYr",
    "outputId": "5a2d2345-98cb-4296-c8cc-c5cd30864776"
   },
   "outputs": [
    {
     "output_type": "execute_result",
     "data": {
      "text/plain": [
       "           company   close\n",
       "date                      \n",
       "2010-01-11    GAZP  194.50\n",
       "2010-01-12    GAZP  191.80\n",
       "2010-01-13    GAZP  189.30\n",
       "2010-01-14    GAZP  190.83\n",
       "2010-01-15    GAZP  187.86"
      ],
      "text/html": [
       "\n",
       "  <div id=\"df-111909e6-521c-49cd-bb65-6a77250d7c34\">\n",
       "    <div class=\"colab-df-container\">\n",
       "      <div>\n",
       "<style scoped>\n",
       "    .dataframe tbody tr th:only-of-type {\n",
       "        vertical-align: middle;\n",
       "    }\n",
       "\n",
       "    .dataframe tbody tr th {\n",
       "        vertical-align: top;\n",
       "    }\n",
       "\n",
       "    .dataframe thead th {\n",
       "        text-align: right;\n",
       "    }\n",
       "</style>\n",
       "<table border=\"1\" class=\"dataframe\">\n",
       "  <thead>\n",
       "    <tr style=\"text-align: right;\">\n",
       "      <th></th>\n",
       "      <th>company</th>\n",
       "      <th>close</th>\n",
       "    </tr>\n",
       "    <tr>\n",
       "      <th>date</th>\n",
       "      <th></th>\n",
       "      <th></th>\n",
       "    </tr>\n",
       "  </thead>\n",
       "  <tbody>\n",
       "    <tr>\n",
       "      <th>2010-01-11</th>\n",
       "      <td>GAZP</td>\n",
       "      <td>194.50</td>\n",
       "    </tr>\n",
       "    <tr>\n",
       "      <th>2010-01-12</th>\n",
       "      <td>GAZP</td>\n",
       "      <td>191.80</td>\n",
       "    </tr>\n",
       "    <tr>\n",
       "      <th>2010-01-13</th>\n",
       "      <td>GAZP</td>\n",
       "      <td>189.30</td>\n",
       "    </tr>\n",
       "    <tr>\n",
       "      <th>2010-01-14</th>\n",
       "      <td>GAZP</td>\n",
       "      <td>190.83</td>\n",
       "    </tr>\n",
       "    <tr>\n",
       "      <th>2010-01-15</th>\n",
       "      <td>GAZP</td>\n",
       "      <td>187.86</td>\n",
       "    </tr>\n",
       "  </tbody>\n",
       "</table>\n",
       "</div>\n",
       "      <button class=\"colab-df-convert\" onclick=\"convertToInteractive('df-111909e6-521c-49cd-bb65-6a77250d7c34')\"\n",
       "              title=\"Convert this dataframe to an interactive table.\"\n",
       "              style=\"display:none;\">\n",
       "        \n",
       "  <svg xmlns=\"http://www.w3.org/2000/svg\" height=\"24px\"viewBox=\"0 0 24 24\"\n",
       "       width=\"24px\">\n",
       "    <path d=\"M0 0h24v24H0V0z\" fill=\"none\"/>\n",
       "    <path d=\"M18.56 5.44l.94 2.06.94-2.06 2.06-.94-2.06-.94-.94-2.06-.94 2.06-2.06.94zm-11 1L8.5 8.5l.94-2.06 2.06-.94-2.06-.94L8.5 2.5l-.94 2.06-2.06.94zm10 10l.94 2.06.94-2.06 2.06-.94-2.06-.94-.94-2.06-.94 2.06-2.06.94z\"/><path d=\"M17.41 7.96l-1.37-1.37c-.4-.4-.92-.59-1.43-.59-.52 0-1.04.2-1.43.59L10.3 9.45l-7.72 7.72c-.78.78-.78 2.05 0 2.83L4 21.41c.39.39.9.59 1.41.59.51 0 1.02-.2 1.41-.59l7.78-7.78 2.81-2.81c.8-.78.8-2.07 0-2.86zM5.41 20L4 18.59l7.72-7.72 1.47 1.35L5.41 20z\"/>\n",
       "  </svg>\n",
       "      </button>\n",
       "      \n",
       "  <style>\n",
       "    .colab-df-container {\n",
       "      display:flex;\n",
       "      flex-wrap:wrap;\n",
       "      gap: 12px;\n",
       "    }\n",
       "\n",
       "    .colab-df-convert {\n",
       "      background-color: #E8F0FE;\n",
       "      border: none;\n",
       "      border-radius: 50%;\n",
       "      cursor: pointer;\n",
       "      display: none;\n",
       "      fill: #1967D2;\n",
       "      height: 32px;\n",
       "      padding: 0 0 0 0;\n",
       "      width: 32px;\n",
       "    }\n",
       "\n",
       "    .colab-df-convert:hover {\n",
       "      background-color: #E2EBFA;\n",
       "      box-shadow: 0px 1px 2px rgba(60, 64, 67, 0.3), 0px 1px 3px 1px rgba(60, 64, 67, 0.15);\n",
       "      fill: #174EA6;\n",
       "    }\n",
       "\n",
       "    [theme=dark] .colab-df-convert {\n",
       "      background-color: #3B4455;\n",
       "      fill: #D2E3FC;\n",
       "    }\n",
       "\n",
       "    [theme=dark] .colab-df-convert:hover {\n",
       "      background-color: #434B5C;\n",
       "      box-shadow: 0px 1px 3px 1px rgba(0, 0, 0, 0.15);\n",
       "      filter: drop-shadow(0px 1px 2px rgba(0, 0, 0, 0.3));\n",
       "      fill: #FFFFFF;\n",
       "    }\n",
       "  </style>\n",
       "\n",
       "      <script>\n",
       "        const buttonEl =\n",
       "          document.querySelector('#df-111909e6-521c-49cd-bb65-6a77250d7c34 button.colab-df-convert');\n",
       "        buttonEl.style.display =\n",
       "          google.colab.kernel.accessAllowed ? 'block' : 'none';\n",
       "\n",
       "        async function convertToInteractive(key) {\n",
       "          const element = document.querySelector('#df-111909e6-521c-49cd-bb65-6a77250d7c34');\n",
       "          const dataTable =\n",
       "            await google.colab.kernel.invokeFunction('convertToInteractive',\n",
       "                                                     [key], {});\n",
       "          if (!dataTable) return;\n",
       "\n",
       "          const docLinkHtml = 'Like what you see? Visit the ' +\n",
       "            '<a target=\"_blank\" href=https://colab.research.google.com/notebooks/data_table.ipynb>data table notebook</a>'\n",
       "            + ' to learn more about interactive tables.';\n",
       "          element.innerHTML = '';\n",
       "          dataTable['output_type'] = 'display_data';\n",
       "          await google.colab.output.renderOutput(dataTable, element);\n",
       "          const docLink = document.createElement('div');\n",
       "          docLink.innerHTML = docLinkHtml;\n",
       "          element.appendChild(docLink);\n",
       "        }\n",
       "      </script>\n",
       "    </div>\n",
       "  </div>\n",
       "  "
      ]
     },
     "metadata": {},
     "execution_count": 41
    }
   ],
   "source": [
    "data = pd.read_csv('../data/gazp.csv', sep=',') # загружаем данные\n",
    "data.drop(labels=['<PER>', '<TIME>'], axis=1, inplace=True) # убираем из таблицы ненужные столбцы\n",
    "data.rename({'<TICKER>': 'company', '<CLOSE>': 'close', '<DATE>': 'date'}, axis=1, inplace=True) # переименовываем оставшиеся столбцы\n",
    "data['date'] = pd.to_datetime(data['date'], dayfirst=True) # приводим столбец с датами к нужному формату\n",
    "data.set_index('date', inplace=True)\n",
    "data.head()"
   ]
  },
  {
   "cell_type": "code",
   "execution_count": null,
   "metadata": {
    "colab": {
     "base_uri": "https://localhost:8080/"
    },
    "id": "HWmM5NLi8iPx",
    "outputId": "be013ae3-59a9-4297-ca92-aa16a697f0ad"
   },
   "outputs": [
    {
     "output_type": "execute_result",
     "data": {
      "text/plain": [
       "(Timestamp('2010-01-11 00:00:00'), Timestamp('2022-12-30 00:00:00'))"
      ]
     },
     "metadata": {},
     "execution_count": 42
    }
   ],
   "source": [
    "min(data.index), max(data.index)"
   ]
  },
  {
   "cell_type": "code",
   "execution_count": null,
   "metadata": {
    "colab": {
     "base_uri": "https://localhost:8080/",
     "height": 382
    },
    "id": "ZLHPgdYJAUlz",
    "outputId": "4c708cf7-7fe5-4a3c-ac5d-d9c5dab49e8b"
   },
   "outputs": [
    {
     "output_type": "execute_result",
     "data": {
      "text/plain": [
       "<seaborn.axisgrid.FacetGrid at 0x7f41cc006a00>"
      ]
     },
     "metadata": {},
     "execution_count": 43
    },
    {
     "output_type": "display_data",
     "data": {
      "text/plain": [
       "<Figure size 360x360 with 1 Axes>"
      ],
      "image/png": "[encoded data removed]"
     },
     "metadata": {}
    }
   ],
   "source": [
    "sns.displot(data.close)"
   ]
  },
  {
   "cell_type": "code",
   "execution_count": null,
   "metadata": {
    "colab": {
     "base_uri": "https://localhost:8080/",
     "height": 297
    },
    "id": "c4ozShRXA7ud",
    "outputId": "89157687-c781-4199-d4fb-9c05677bb54b"
   },
   "outputs": [
    {
     "output_type": "execute_result",
     "data": {
      "text/plain": [
       "             close\n",
       "count  3250.000000\n",
       "mean    174.658982\n",
       "std      51.103808\n",
       "min     107.230000\n",
       "25%     140.627500\n",
       "50%     156.495000\n",
       "75%     193.857500\n",
       "max     389.820000"
      ],
      "text/html": [
       "\n",
       "  <div id=\"df-d80461a1-d861-4ba8-a935-967d37218458\">\n",
       "    <div class=\"colab-df-container\">\n",
       "      <div>\n",
       "<style scoped>\n",
       "    .dataframe tbody tr th:only-of-type {\n",
       "        vertical-align: middle;\n",
       "    }\n",
       "\n",
       "    .dataframe tbody tr th {\n",
       "        vertical-align: top;\n",
       "    }\n",
       "\n",
       "    .dataframe thead th {\n",
       "        text-align: right;\n",
       "    }\n",
       "</style>\n",
       "<table border=\"1\" class=\"dataframe\">\n",
       "  <thead>\n",
       "    <tr style=\"text-align: right;\">\n",
       "      <th></th>\n",
       "      <th>close</th>\n",
       "    </tr>\n",
       "  </thead>\n",
       "  <tbody>\n",
       "    <tr>\n",
       "      <th>count</th>\n",
       "      <td>3250.000000</td>\n",
       "    </tr>\n",
       "    <tr>\n",
       "      <th>mean</th>\n",
       "      <td>174.658982</td>\n",
       "    </tr>\n",
       "    <tr>\n",
       "      <th>std</th>\n",
       "      <td>51.103808</td>\n",
       "    </tr>\n",
       "    <tr>\n",
       "      <th>min</th>\n",
       "      <td>107.230000</td>\n",
       "    </tr>\n",
       "    <tr>\n",
       "      <th>25%</th>\n",
       "      <td>140.627500</td>\n",
       "    </tr>\n",
       "    <tr>\n",
       "      <th>50%</th>\n",
       "      <td>156.495000</td>\n",
       "    </tr>\n",
       "    <tr>\n",
       "      <th>75%</th>\n",
       "      <td>193.857500</td>\n",
       "    </tr>\n",
       "    <tr>\n",
       "      <th>max</th>\n",
       "      <td>389.820000</td>\n",
       "    </tr>\n",
       "  </tbody>\n",
       "</table>\n",
       "</div>\n",
       "      <button class=\"colab-df-convert\" onclick=\"convertToInteractive('df-d80461a1-d861-4ba8-a935-967d37218458')\"\n",
       "              title=\"Convert this dataframe to an interactive table.\"\n",
       "              style=\"display:none;\">\n",
       "        \n",
       "  <svg xmlns=\"http://www.w3.org/2000/svg\" height=\"24px\"viewBox=\"0 0 24 24\"\n",
       "       width=\"24px\">\n",
       "    <path d=\"M0 0h24v24H0V0z\" fill=\"none\"/>\n",
       "    <path d=\"M18.56 5.44l.94 2.06.94-2.06 2.06-.94-2.06-.94-.94-2.06-.94 2.06-2.06.94zm-11 1L8.5 8.5l.94-2.06 2.06-.94-2.06-.94L8.5 2.5l-.94 2.06-2.06.94zm10 10l.94 2.06.94-2.06 2.06-.94-2.06-.94-.94-2.06-.94 2.06-2.06.94z\"/><path d=\"M17.41 7.96l-1.37-1.37c-.4-.4-.92-.59-1.43-.59-.52 0-1.04.2-1.43.59L10.3 9.45l-7.72 7.72c-.78.78-.78 2.05 0 2.83L4 21.41c.39.39.9.59 1.41.59.51 0 1.02-.2 1.41-.59l7.78-7.78 2.81-2.81c.8-.78.8-2.07 0-2.86zM5.41 20L4 18.59l7.72-7.72 1.47 1.35L5.41 20z\"/>\n",
       "  </svg>\n",
       "      </button>\n",
       "      \n",
       "  <style>\n",
       "    .colab-df-container {\n",
       "      display:flex;\n",
       "      flex-wrap:wrap;\n",
       "      gap: 12px;\n",
       "    }\n",
       "\n",
       "    .colab-df-convert {\n",
       "      background-color: #E8F0FE;\n",
       "      border: none;\n",
       "      border-radius: 50%;\n",
       "      cursor: pointer;\n",
       "      display: none;\n",
       "      fill: #1967D2;\n",
       "      height: 32px;\n",
       "      padding: 0 0 0 0;\n",
       "      width: 32px;\n",
       "    }\n",
       "\n",
       "    .colab-df-convert:hover {\n",
       "      background-color: #E2EBFA;\n",
       "      box-shadow: 0px 1px 2px rgba(60, 64, 67, 0.3), 0px 1px 3px 1px rgba(60, 64, 67, 0.15);\n",
       "      fill: #174EA6;\n",
       "    }\n",
       "\n",
       "    [theme=dark] .colab-df-convert {\n",
       "      background-color: #3B4455;\n",
       "      fill: #D2E3FC;\n",
       "    }\n",
       "\n",
       "    [theme=dark] .colab-df-convert:hover {\n",
       "      background-color: #434B5C;\n",
       "      box-shadow: 0px 1px 3px 1px rgba(0, 0, 0, 0.15);\n",
       "      filter: drop-shadow(0px 1px 2px rgba(0, 0, 0, 0.3));\n",
       "      fill: #FFFFFF;\n",
       "    }\n",
       "  </style>\n",
       "\n",
       "      <script>\n",
       "        const buttonEl =\n",
       "          document.querySelector('#df-d80461a1-d861-4ba8-a935-967d37218458 button.colab-df-convert');\n",
       "        buttonEl.style.display =\n",
       "          google.colab.kernel.accessAllowed ? 'block' : 'none';\n",
       "\n",
       "        async function convertToInteractive(key) {\n",
       "          const element = document.querySelector('#df-d80461a1-d861-4ba8-a935-967d37218458');\n",
       "          const dataTable =\n",
       "            await google.colab.kernel.invokeFunction('convertToInteractive',\n",
       "                                                     [key], {});\n",
       "          if (!dataTable) return;\n",
       "\n",
       "          const docLinkHtml = 'Like what you see? Visit the ' +\n",
       "            '<a target=\"_blank\" href=https://colab.research.google.com/notebooks/data_table.ipynb>data table notebook</a>'\n",
       "            + ' to learn more about interactive tables.';\n",
       "          element.innerHTML = '';\n",
       "          dataTable['output_type'] = 'display_data';\n",
       "          await google.colab.output.renderOutput(dataTable, element);\n",
       "          const docLink = document.createElement('div');\n",
       "          docLink.innerHTML = docLinkHtml;\n",
       "          element.appendChild(docLink);\n",
       "        }\n",
       "      </script>\n",
       "    </div>\n",
       "  </div>\n",
       "  "
      ]
     },
     "metadata": {},
     "execution_count": 44
    }
   ],
   "source": [
    "data.describe()"
   ]
  },
  {
   "cell_type": "code",
   "execution_count": null,
   "metadata": {
    "colab": {
     "base_uri": "https://localhost:8080/"
    },
    "id": "C6BwiR5uBAya",
    "outputId": "e40edbf3-80b9-4850-d194-a5a40fbc0849"
   },
   "outputs": [
    {
     "output_type": "stream",
     "name": "stdout",
     "text": [
      "<class 'pandas.core.frame.DataFrame'>\n",
      "DatetimeIndex: 3250 entries, 2010-01-11 to 2022-12-30\n",
      "Data columns (total 2 columns):\n",
      " #   Column   Non-Null Count  Dtype  \n",
      "---  ------   --------------  -----  \n",
      " 0   company  3250 non-null   object \n",
      " 1   close    3250 non-null   float64\n",
      "dtypes: float64(1), object(1)\n",
      "memory usage: 76.2+ KB\n"
     ]
    }
   ],
   "source": [
    "data.info()"
   ]
  },
  {
   "cell_type": "code",
   "execution_count": null,
   "metadata": {
    "colab": {
     "base_uri": "https://localhost:8080/",
     "height": 502
    },
    "id": "rY9fFU9nl97F",
    "outputId": "91415c61-6e13-4016-e85d-5761997a9708"
   },
   "outputs": [
    {
     "output_type": "display_data",
     "data": {
      "text/plain": [
       "<Figure size 1440x720 with 0 Axes>"
      ]
     },
     "metadata": {}
    },
    {
     "output_type": "display_data",
     "data": {
      "text/plain": [
       "<Figure size 842.4x595.44 with 1 Axes>"
      ],
      "image/png": "[encoded data removed]"
     },
     "metadata": {}
    }
   ],
   "source": [
    "fig = plt.figure(figsize=(20, 10))\n",
    "#sns.set()\n",
    "data.plot()\n",
    "plt.show()"
   ]
  },
  {
   "cell_type": "code",
   "execution_count": null,
   "metadata": {
    "id": "GWfA27r5FKg4"
   },
   "outputs": [],
   "source": [
    "# plt.plot(history['train'])\n",
    "# plt.plot(history['val'])\n",
    "# plt.legend(['train', 'val'])"
   ]
  },
  {
   "cell_type": "code",
   "execution_count": null,
   "metadata": {
    "id": "FVF8ZsV2Htn7"
   },
   "outputs": [],
   "source": [
    "models = [LogisticRegression(solver='liblinear'), CatBoostClassifier(n_estimators=800), XGBClassifier(n_estimators=800), LGBMClassifier(n_estimators=800)]\n",
    "windows = [7, 14, 30, 60, 90, 180]"
   ]
  },
  {
   "cell_type": "code",
   "execution_count": null,
   "metadata": {
    "id": "B2i5jyz-TEhq"
   },
   "outputs": [],
   "source": [
    "# model = LGBMClassifier(n_estimators=800)\n",
    "# cropped_data = data.loc[data.index < '2018-02-01']\n",
    "# X_train, y_train, X_test, y_test = prepare_data(cropped_data, 'classification')\n",
    "# model.fit(X_train, y_train)\n",
    "# joblib.dump(model, 'model_aero.bin')\n",
    "# model = joblib.load('model_aero.bin')\n",
    "# y_pred = model.predict(X_test)\n",
    "# print(f1_score(y_test, y_pred))"
   ]
  },
  {
   "cell_type": "code",
   "execution_count": null,
   "metadata": {
    "id": "SMQeHcVRVbzM"
   },
   "outputs": [],
   "source": [
    "dates = ['2019-02-01',\n",
    "         '2019-03-01',\n",
    "         '2019-04-01',\n",
    "         '2019-05-01',\n",
    "         '2019-06-01',\n",
    "         '2019-07-01',\n",
    "         '2019-08-01',\n",
    "         '2019-09-01',\n",
    "         '2019-10-01',\n",
    "         '2019-11-01',\n",
    "         '2019-12-01',\n",
    "         '2020-01-01',]"
   ]
  },
  {
   "cell_type": "code",
   "execution_count": null,
   "metadata": {
    "id": "QnjAW85bGjvg"
   },
   "outputs": [],
   "source": [
    "results = {\n",
    "    'accuracy': {\n",
    "      'XGBClassifier': [],\n",
    "      'LogisticRegression': [],\n",
    "      'CatBoostClassifier': [],\n",
    "      'LGBMClassifier': [],\n",
    "    },\n",
    "    'f1_score': {\n",
    "      'XGBClassifier': [],\n",
    "      'LogisticRegression': [],\n",
    "      'CatBoostClassifier': [],\n",
    "      'LGBMClassifier': [],\n",
    "    }\n",
    "}"
   ]
  },
  {
   "cell_type": "code",
   "execution_count": null,
   "metadata": {
    "id": "UH5oxh9UX32X"
   },
   "outputs": [],
   "source": [
    "for model in models:\n",
    "  for win_size in tqdm(windows):\n",
    "    f1_scores, acc_scores = [], []\n",
    "    for date in dates:\n",
    "      cropped_data = data.loc[data.index < date]\n",
    "      X_train, y_train, X_test, y_test = prepare_data(cropped_data, 'classification', win_size)\n",
    "      model_temp = model\n",
    "      model_temp.fit(X_train, y_train)\n",
    "      test_preds = model_temp.predict(X_test)\n",
    "      f1_scores.append(f1_score(y_test, test_preds))\n",
    "      acc_scores.append(accuracy_score(y_test, test_preds))\n",
    "    results['accuracy'][type(model_temp).__name__].append(sum(acc_scores) / len(acc_scores))\n",
    "    results['f1_score'][type(model_temp).__name__].append(sum(f1_scores) / len(f1_scores))"
   ]
  },
  {
   "cell_type": "code",
   "execution_count": null,
   "metadata": {
    "id": "_IDOSSHUUg0x"
   },
   "outputs": [],
   "source": [
    "nn_models = [\"FCModel\", \"LSTMModel\"]"
   ]
  },
  {
   "cell_type": "code",
   "execution_count": null,
   "metadata": {
    "id": "9WrCnQClWGv7"
   },
   "outputs": [],
   "source": [
    "nn_results = {\n",
    "    'accuracy': {\n",
    "      'FCModel': [],\n",
    "      'CNNModel': [],\n",
    "      'LSTMModel': [],\n",
    "    },\n",
    "    'f1_score': {\n",
    "      'FCModel': [],\n",
    "      'CNNModel': [],\n",
    "      'LSTMModel': [],\n",
    "    }\n",
    "}"
   ]
  },
  {
   "cell_type": "code",
   "execution_count": null,
   "metadata": {
    "id": "pYeHdX8_dtNi"
   },
   "outputs": [],
   "source": [
    "device = torch.device('cuda:0' if torch.cuda.is_available() else 'cpu')\n",
    "\n",
    "loss_function = nn.BCEWithLogitsLoss()"
   ]
  },
  {
   "cell_type": "code",
   "execution_count": null,
   "metadata": {
    "colab": {
     "base_uri": "https://localhost:8080/"
    },
    "id": "7BkQIehrU7Bm",
    "outputId": "d51b592a-ba47-45d1-ba29-66177d4e69d3"
   },
   "outputs": [
    {
     "output_type": "stream",
     "name": "stderr",
     "text": [
      "100%|██████████| 6/6 [29:44<00:00, 297.40s/it]\n",
      "100%|██████████| 6/6 [41:03<00:00, 410.63s/it]\n"
     ]
    }
   ],
   "source": [
    "for model in nn_models:\n",
    "  for win_size in tqdm(windows):\n",
    "    f1_scores, acc_scores = [], []\n",
    "    for date in dates:\n",
    "      cropped_data = data.loc[data.index < date]\n",
    "      X_train, y_train, X_test, y_test = prepare_data(cropped_data, 'classification', win_size)\n",
    "      train_dataloader, test_dataloader = prepare_dataloader(X_train, y_train, X_test, y_test)\n",
    "\n",
    "      model_temp = globals()[model](win_size)\n",
    "      model_temp = model_temp.to(device)\n",
    "      optimizer = Adam(model_temp.parameters(), lr=0.0001)\n",
    "      train_model(model_temp, loss_function, optimizer, 1000)\n",
    "\n",
    "      test_preds = model_temp.infer(test_data)\n",
    "      f1_scores.append(f1_score(test_target, test_preds.cpu()))\n",
    "      acc_scores.append(accuracy_score(test_target, test_preds.cpu()))\n",
    "    nn_results['accuracy'][type(model_temp).__name__].append(sum(acc_scores) / len(acc_scores))\n",
    "    nn_results['f1_score'][type(model_temp).__name__].append(sum(f1_scores) / len(f1_scores))"
   ]
  },
  {
   "cell_type": "code",
   "source": [
    "for win_size in tqdm(windows):\n",
    "  f1_scores, acc_scores = [], []\n",
    "  mean_acc, mean_f1 = np.nan, np.nan\n",
    "  if win_size > 30:\n",
    "    for date in dates:\n",
    "      cropped_data = data.loc[data.index < date]\n",
    "      X_train, y_train, X_test, y_test = prepare_data(cropped_data, 'classification', win_size)\n",
    "      train_dataloader, test_dataloader = prepare_dataloader(X_train, y_train, X_test, y_test)\n",
    "\n",
    "      model_temp = CNNModel(win_size)\n",
    "      model_temp = model_temp.to(device)\n",
    "      optimizer = Adam(model_temp.parameters(), lr=0.0001)\n",
    "      train_model(model_temp, loss_function, optimizer, 1000, cnn_flg=True)\n",
    "      test_data = test_data[None, :]\n",
    "      test_data = test_data.permute(1, 0, 2)\n",
    "      test_preds = model_temp.infer(test_data)\n",
    "      f1_scores.append(f1_score(test_target, test_preds.cpu()))\n",
    "      acc_scores.append(accuracy_score(test_target, test_preds.cpu()))\n",
    "    mean_acc, mean_f1 = sum(acc_scores) / len(acc_scores), sum(f1_scores) / len(f1_scores)\n",
    "  nn_results['accuracy']['CNNModel'].append(mean_acc), \n",
    "  nn_results['f1_score']['CNNModel'].append(mean_f1)"
   ],
   "metadata": {
    "colab": {
     "base_uri": "https://localhost:8080/"
    },
    "id": "21UrgV58X5x6",
    "outputId": "448e70a8-6475-444a-ac86-4a39ee8b808a"
   },
   "execution_count": null,
   "outputs": [
    {
     "output_type": "stream",
     "name": "stderr",
     "text": [
      "100%|██████████| 6/6 [14:33<00:00, 145.59s/it]\n"
     ]
    }
   ]
  },
  {
   "cell_type": "code",
   "source": [
    "all_results = results\n",
    "for key in nn_results.keys():\n",
    "  for m_name in nn_results[key].keys():\n",
    "    all_results[key][m_name] = nn_results[key][m_name]"
   ],
   "metadata": {
    "id": "NUSzdjzuLDeC"
   },
   "execution_count": null,
   "outputs": []
  },
  {
   "cell_type": "code",
   "source": [
    "sns.set(rc={'figure.figsize':(11.7,8.27)})\n",
    "for name in all_results['accuracy'].keys():\n",
    "  sns.scatterplot(x=windows, y=all_results['accuracy'][name], label=name)\n",
    "plt.xticks(windows)\n",
    "plt.ylabel('accuracy')\n",
    "plt.xlabel('window_size')\n",
    "plt.title('GAZP')\n",
    "plt.show()"
   ],
   "metadata": {
    "colab": {
     "base_uri": "https://localhost:8080/",
     "height": 533
    },
    "id": "vRPomTkkXyKN",
    "outputId": "19fbd99f-39be-4de5-a3aa-25eb1fd7f4b1"
   },
   "execution_count": null,
   "outputs": [
    {
     "output_type": "display_data",
     "data": {
      "text/plain": [
       "<Figure size 842.4x595.44 with 1 Axes>"
      ],
      "image/png": "[encoded data removed]"
     },
     "metadata": {}
    }
   ]
  },
  {
   "cell_type": "code",
   "source": [
    "pd.DataFrame(all_results).to_csv('gazp_models.csv')"
   ],
   "metadata": {
    "id": "G1243nDhk3Il"
   },
   "execution_count": null,
   "outputs": []
  },
  {
   "cell_type": "code",
   "execution_count": null,
   "metadata": {
    "id": "Lt_Utp0JZCed"
   },
   "outputs": [],
   "source": [
    "# def predict_model(model, train_data: pd.DataFrame):\n",
    "#   y_pred = []\n",
    "#   X_temp = np.array(train_data.close.values[-WINDOW_SIZE:], ndmin=2)\n",
    "#   for i in range(WINDOW_SIZE):\n",
    "#     temp_pred = model.predict(X_temp)\n",
    "#     X_temp = np.append(X_temp[:, 1:], np.array(temp_pred, ndmin=2), axis=1)\n",
    "#     y_pred.append(temp_pred[0])\n",
    "#   return np.array(y_pred).reshape(-1, 1)\n",
    "# y_pred = predict_model(model, train_data)"
   ]
  },
  {
   "cell_type": "code",
   "execution_count": null,
   "metadata": {
    "id": "HZAkVRvDE2TQ"
   },
   "outputs": [],
   "source": [
    "# model.save_model('model.bin')\n",
    "# model.load_model('model.bin')"
   ]
  },
  {
   "cell_type": "code",
   "execution_count": null,
   "metadata": {
    "colab": {
     "base_uri": "https://localhost:8080/",
     "height": 282
    },
    "id": "UmpAqyII8hih",
    "outputId": "5eac903d-03e1-4f25-bcc8-4353e7977e46"
   },
   "outputs": [
    {
     "data": {
      "text/plain": [
       "<AxesSubplot:>"
      ]
     },
     "execution_count": 38,
     "metadata": {},
     "output_type": "execute_result"
    },
    {
     "data": {
      "image/png": "[encoded data removed]",
      "text/plain": [
       "<Figure size 432x288 with 2 Axes>"
      ]
     },
     "metadata": {},
     "output_type": "display_data"
    }
   ],
   "source": [
    "train_preds = model.predict(X_train)\n",
    "train_cm = confusion_matrix(y_train, train_preds)\n",
    "sns.heatmap(train_cm, annot=True)"
   ]
  },
  {
   "cell_type": "code",
   "execution_count": null,
   "metadata": {
    "colab": {
     "base_uri": "https://localhost:8080/"
    },
    "id": "iG9pyXuq8vDH",
    "outputId": "f00925d8-504a-46bc-b78e-d165e7979c59"
   },
   "outputs": [
    {
     "data": {
      "text/plain": [
       "1.0"
      ]
     },
     "execution_count": 39,
     "metadata": {},
     "output_type": "execute_result"
    }
   ],
   "source": [
    "(train_cm[0][0] + train_cm[1][1]) / train_cm.sum()"
   ]
  },
  {
   "cell_type": "code",
   "execution_count": null,
   "metadata": {
    "id": "Fw49rMNL6qS3"
   },
   "outputs": [],
   "source": [
    "y_preds = model.predict(X_test)"
   ]
  },
  {
   "cell_type": "code",
   "execution_count": null,
   "metadata": {
    "colab": {
     "base_uri": "https://localhost:8080/",
     "height": 282
    },
    "id": "3xdLbfFLx9nr",
    "outputId": "1443dcd5-861b-42d9-f8ca-8da7e0eadd64"
   },
   "outputs": [
    {
     "data": {
      "text/plain": [
       "<AxesSubplot:>"
      ]
     },
     "execution_count": 41,
     "metadata": {},
     "output_type": "execute_result"
    },
    {
     "data": {
      "image/png": "[encoded data removed]",
      "text/plain": [
       "<Figure size 432x288 with 2 Axes>"
      ]
     },
     "metadata": {},
     "output_type": "display_data"
    }
   ],
   "source": [
    "cm = confusion_matrix(y_test, y_preds)\n",
    "sns.heatmap(cm, annot=True)"
   ]
  },
  {
   "cell_type": "code",
   "execution_count": null,
   "metadata": {
    "colab": {
     "base_uri": "https://localhost:8080/"
    },
    "id": "BzQI3HPq7vGr",
    "outputId": "24a534fd-ec2d-45fa-a93f-919f0097fd01"
   },
   "outputs": [
    {
     "data": {
      "text/plain": [
       "0.5483870967741935"
      ]
     },
     "execution_count": 42,
     "metadata": {},
     "output_type": "execute_result"
    }
   ],
   "source": [
    "acc = (cm[0][0] + cm[1][1]) / cm.sum()\n",
    "acc"
   ]
  }
 ],
 "metadata": {
  "colab": {
   "provenance": []
  },
  "gpuClass": "standard",
  "kernelspec": {
   "display_name": "Python 3",
   "name": "python3"
  },
  "language_info": {
   "name": "python"
  }
 },
 "nbformat": 4,
 "nbformat_minor": 0
}
